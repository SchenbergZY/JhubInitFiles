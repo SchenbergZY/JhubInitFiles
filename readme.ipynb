{
 "cells": [
  {
   "cell_type": "code",
   "execution_count": 1,
   "id": "5d7b2874-02f4-425e-be3b-4f7934d666a4",
   "metadata": {},
   "outputs": [
    {
     "name": "stdout",
     "output_type": "stream",
     "text": [
      "README\n"
     ]
    }
   ],
   "source": [
    "print('README')"
   ]
  },
  {
   "cell_type": "markdown",
   "id": "66be10c8-35f2-4b8c-8955-aa1bdf99a5fe",
   "metadata": {},
   "source": [
    " # This is a read me page that shall be default after starting jupyter hub."
   ]
  },
  {
   "cell_type": "markdown",
   "id": "52350c93",
   "metadata": {},
   "source": [
    "# If you open this from gesis, please run the command blow, then it will be the same as what you will see in Jupyterhub 4Cat"
   ]
  },
  {
   "cell_type": "code",
   "execution_count": null,
   "id": "de791638-95bf-401b-9594-b2c4af40a142",
   "metadata": {},
   "outputs": [],
   "source": [
    "!export -p | grep JUPYTERHUB_CLIENT_ID > userinfo.txt;(echo \"import os;os.system('mkdir general_functions;cd general_functions;curl -L -O -J -H \\\"X-Dataverse-key:6ada60dc-67d1-47bb-b42a-95c2aff91929\\\" http://nfdirepo.fokus.fraunhofer.de/api/access/dataset/48'+';unzip dataverse_files.zip;rm dataverse_files.zip')\") > test2.py;python3 test2.py;rm userinfo.txt;rm test2.py;wget -nc https://raw.githubusercontent.com/SchenbergZY/jupyterhub-templates/master/tempyue/readme.ipynb;wget -nc https://raw.githubusercontent.com/SchenbergZY/jupyterhub-templates/master/tempyue/download_data_doi.ipynb"
   ]
  }
 ],
 "metadata": {
  "kernelspec": {
   "display_name": "Python 3 (ipykernel)",
   "language": "python",
   "name": "python3"
  },
  "language_info": {
   "codemirror_mode": {
    "name": "ipython",
    "version": 3
   },
   "file_extension": ".py",
   "mimetype": "text/x-python",
   "name": "python",
   "nbconvert_exporter": "python",
   "pygments_lexer": "ipython3",
   "version": "3.10.10"
  }
 },
 "nbformat": 4,
 "nbformat_minor": 5
}
